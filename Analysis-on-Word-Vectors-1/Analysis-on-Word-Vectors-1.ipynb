{
 "cells": [
  {
   "cell_type": "code",
   "execution_count": 7,
   "id": "599284aa-bf10-4bd3-8b27-70f575ba0a34",
   "metadata": {},
   "outputs": [],
   "source": [
    "import numpy as np \n",
    "\n",
    "#Get the interactive Tools for Matplotlib\n",
    "\n",
    "%matplotlib inline\n",
    "import matplotlib.pyplot as plt \n",
    "plt.style.use('ggplot')\n",
    "\n",
    "from sklearn.decomposition import PCA\n",
    "\n",
    "import gensim.downloader as api \n",
    "from gensim.models import KeyedVectors"
   ]
  },
  {
   "cell_type": "code",
   "execution_count": 9,
   "id": "a8b13d24-b08d-49ae-9a58-f33462789c50",
   "metadata": {},
   "outputs": [
    {
     "name": "stdout",
     "output_type": "stream",
     "text": [
      "[==================================================] 100.0% 128.1/128.1MB downloaded\n"
     ]
    }
   ],
   "source": [
    "word_vectors = api.load(\"glove-wiki-gigaword-100\")"
   ]
  },
  {
   "cell_type": "code",
   "execution_count": 73,
   "id": "978b8f34-f9ab-48b1-8746-4d1c93aa5ef4",
   "metadata": {},
   "outputs": [],
   "source": [
    "word_vectors['car']\n",
    "vector1 = word_vectors['car']"
   ]
  },
  {
   "cell_type": "code",
   "execution_count": 75,
   "id": "b8e79f76-cc03-4e5b-b0b4-3b8634272b5a",
   "metadata": {},
   "outputs": [],
   "source": [
    "word_vectors['bus']\n",
    "vector2 = word_vectors['bus']"
   ]
  },
  {
   "cell_type": "raw",
   "id": "4b92bb9c-3e04-401d-819d-a9c314e36497",
   "metadata": {},
   "source": [
    "Cosine Similarity\n",
    "Cosine similarity calculates the cosine of the angle between two vectors. Value range:\n",
    "\n",
    "1: Completely identical vectors.\n",
    "0: No similarity.\n",
    "-1: Opposite direction vectors."
   ]
  },
  {
   "cell_type": "code",
   "execution_count": 77,
   "id": "9d73d8a2-cc4c-40b0-af10-60894dd7f525",
   "metadata": {},
   "outputs": [
    {
     "name": "stdout",
     "output_type": "stream",
     "text": [
      "Cosine Similarity (car ve bus): 0.7372706532478333\n"
     ]
    }
   ],
   "source": [
    "def cosine_similarity(vec1, vec2):\n",
    "    return np.dot(vec1, vec2) / (np.linalg.norm(vec1) * np.linalg.norm(vec2))\n",
    "\n",
    "similarity = cosine_similarity(vector1, vector2)\n",
    "print(f\"Cosine Similarity (car ve bus): {similarity}\")"
   ]
  },
  {
   "cell_type": "raw",
   "id": "48b66750-63f1-414b-bb31-0f7e2ac80c13",
   "metadata": {},
   "source": [
    "Euclidean Distance\n",
    "\n",
    "Euclidean distance calculates the straight-line distance between two vectors. The smaller the value, the closer the vectors are."
   ]
  },
  {
   "cell_type": "code",
   "execution_count": 79,
   "id": "c8c4f004-182c-4654-a6ad-482f6bfce7e1",
   "metadata": {},
   "outputs": [
    {
     "name": "stdout",
     "output_type": "stream",
     "text": [
      "Euclidean Distance (car ve bus): 4.480329990386963\n"
     ]
    }
   ],
   "source": [
    "def euclidean_distance(vec1, vec2):\n",
    "    return np.linalg.norm(vec1 - vec2)\n",
    "\n",
    "distance = euclidean_distance(vector1, vector2)\n",
    "print(f\"Euclidean Distance (car ve bus): {distance}\")"
   ]
  },
  {
   "cell_type": "raw",
   "id": "c489b9eb-98ed-4172-86c9-77a3079746c7",
   "metadata": {},
   "source": [
    "Word Arithmetic\n",
    "Word arithmetic can be used to check the semantic relationships of vectors. For example:\n",
    "\n",
    "The vector for \"bus\" should have a similar meaning to the vector for \"car.\" You can also analyze other similar words arithmetically.\n",
    "\n",
    "Small distances: Words are similar to each other.\n",
    "Large distances: Words differ in meaning."
   ]
  },
  {
   "cell_type": "raw",
   "id": "1a0a22e9-d7ca-461c-bb92-17ff3e8bb741",
   "metadata": {},
   "source": [
    "To examine the semantic relationships of vectors, word arithmetic can be used. For instance:\n",
    "\n",
    "The \"bus\" vector should have a similar meaning to the \"car\" vector. You can analyze other similar words arithmetically for this purpose."
   ]
  },
  {
   "cell_type": "code",
   "execution_count": 81,
   "id": "56cf07e9-edb9-4f51-b6bf-99046ba3705b",
   "metadata": {},
   "outputs": [
    {
     "name": "stdout",
     "output_type": "stream",
     "text": [
      "Similar words for car: [('vehicle', 0.8630837798118591), ('truck', 0.8597877025604248), ('cars', 0.837166965007782), ('driver', 0.8185910582542419), ('driving', 0.781263530254364)]\n",
      "Similar word for bus: [('train', 0.8473864793777466), ('buses', 0.813403844833374), ('commuter', 0.7929050922393799), ('taxi', 0.7858030200004578), ('passenger', 0.7665839195251465)]\n"
     ]
    }
   ],
   "source": [
    "similar_words_to_car = word_vectors.most_similar('car', topn=5)\n",
    "similar_words_to_bus = word_vectors.most_similar('bus', topn=5)\n",
    "\n",
    "print(\"Similar words for car:\", similar_words_to_car)\n",
    "print(\"Similar word for bus:\", similar_words_to_bus)"
   ]
  },
  {
   "cell_type": "raw",
   "id": "32ef41fb-cade-43c1-b1e9-a2c54aed47fb",
   "metadata": {},
   "source": [
    "By analyzing the closest neighbors (words used in similar contexts) of \"car\" and \"bus\":\n",
    "\n",
    "If there are many common neighbors: \"car\" and \"bus\" are similar in meaning.\n",
    "If there are few common neighbors: There may be semantic differences."
   ]
  },
  {
   "cell_type": "code",
   "execution_count": 83,
   "id": "3e4e933c-6672-4ef8-89c4-1ddf59a1aa14",
   "metadata": {},
   "outputs": [
    {
     "name": "stdout",
     "output_type": "stream",
     "text": [
      "Similar Neighbors: {'taxi', 'truck'}\n"
     ]
    }
   ],
   "source": [
    "similar_to_car = set([word for word, _ in word_vectors.most_similar('car', topn=10)])\n",
    "similar_to_bus = set([word for word, _ in word_vectors.most_similar('bus', topn=10)])\n",
    "\n",
    "common_neighbors = similar_to_car.intersection(similar_to_bus)\n",
    "print(\"Similar Neighbors:\", common_neighbors)"
   ]
  },
  {
   "cell_type": "raw",
   "id": "0838916a-33ee-42e5-836e-8f6342d700e0",
   "metadata": {},
   "source": [
    "By reducing the vectors to 2 dimensions and visualizing them, you can observe the proximity of the words \"car\" and \"bus\":\n",
    "\n",
    "If the \"car\" and \"bus\" vectors are close to each other, these words are semantically similar.\n",
    "If they are in different clusters, these words have different contextual usages.\n",
    "In this graph, relationships like train-bus/truck-car can be clearly observed."
   ]
  },
  {
   "cell_type": "code",
   "execution_count": 85,
   "id": "a8a1531c-cfd4-46e4-af17-120d0c0e592f",
   "metadata": {},
   "outputs": [
    {
     "data": {
      "image/png": "[encoded data removed]",
      "text/plain": [
       "<Figure size 800x600 with 1 Axes>"
      ]
     },
     "metadata": {},
     "output_type": "display_data"
    }
   ],
   "source": [
    "words = ['car', 'bus', 'bike', 'train', 'truck']\n",
    "vectors = [word_vectors[word] for word in words]\n",
    "\n",
    "# Reduce to 2 dimensions with PCA\n",
    "pca = PCA(n_components=2)\n",
    "result = pca.fit_transform(vectors)\n",
    "\n",
    "# Visualization\n",
    "plt.figure(figsize=(8, 6))\n",
    "for i, word in enumerate(words):\n",
    "    plt.scatter(result[i, 0], result[i, 1])\n",
    "    plt.text(result[i, 0] + 0.01, result[i, 1] + 0.01, word, fontsize=12)\n",
    "\n",
    "plt.title(\"Word Vectors Visualization with PCA\")\n",
    "plt.xlabel(\"PCA 1\")\n",
    "plt.ylabel(\"PCA 2\")\n",
    "plt.grid()\n",
    "plt.show()"
   ]
  },
  {
   "cell_type": "markdown",
   "id": "aebf0654-d568-4ba3-8d3d-99d7376bbc83",
   "metadata": {},
   "source": [
    "Gensim Model Function For Similarity"
   ]
  },
  {
   "cell_type": "raw",
   "id": "a2363e60-0012-4e46-9ee2-e8336a7d3542",
   "metadata": {},
   "source": [
    "Functions for Semantic Analysis\n",
    "\n",
    "similarity(): Calculates the cosine similarity between two words. 1.0: Fully similar. 0.0: Not similar at all. -1.0: Opposite in meaning (rare).\n",
    "most_similar(): Finds other words most similar in meaning to a given word.\n",
    "doesnt_match(): Identifies the least similar word in a group (the word that doesn’t fit contextually).\n",
    "n_similarity(): Calculates the average similarity between one group of words and another.\n",
    "similar_by_vector(): Finds words closest to a specific vector.\n",
    "rank(): Returns the ranking of a word within another word list (available in Gensim 4.0+)."
   ]
  },
  {
   "cell_type": "code",
   "execution_count": 88,
   "id": "bb81fd11-b9a6-4e88-902f-25f4dfd34558",
   "metadata": {},
   "outputs": [
    {
     "name": "stdout",
     "output_type": "stream",
     "text": [
      "Similarity between 'book' and 'magazine': 0.7210058569908142\n"
     ]
    }
   ],
   "source": [
    "# Similarity between two word\n",
    "similarity = word_vectors.similarity('book', 'magazine')\n",
    "print(f\"Similarity between 'book' and 'magazine': {similarity}\")"
   ]
  },
  {
   "cell_type": "code",
   "execution_count": 90,
   "id": "051c231d-0691-4678-863a-1addd687f46c",
   "metadata": {},
   "outputs": [
    {
     "name": "stdout",
     "output_type": "stream",
     "text": [
      "Words most similar to 'book':\n",
      "books: 0.847648561000824\n",
      "novel: 0.8181167244911194\n",
      "published: 0.8023924231529236\n",
      "story: 0.7941390872001648\n",
      "author: 0.7937874794006348\n"
     ]
    }
   ],
   "source": [
    "# Most similar 5(topn) words\n",
    "similar_words = word_vectors.most_similar('book', topn=5)\n",
    "print(\"Words most similar to 'book':\")\n",
    "for word, score in similar_words:\n",
    "    print(f\"{word}: {score}\")"
   ]
  },
  {
   "cell_type": "code",
   "execution_count": 92,
   "id": "506a2d9f-6524-4058-9c15-74911e0c5c54",
   "metadata": {},
   "outputs": [
    {
     "name": "stdout",
     "output_type": "stream",
     "text": [
      "The odd one out is: banana\n"
     ]
    }
   ],
   "source": [
    "# Which word is different from others?\n",
    "odd_one_out = word_vectors.doesnt_match(['book', 'novel', 'magazine', 'banana'])\n",
    "print(f\"The odd one out is: {odd_one_out}\")"
   ]
  },
  {
   "cell_type": "code",
   "execution_count": 94,
   "id": "f1d14d52-876c-4729-93b9-de4ee78146a1",
   "metadata": {},
   "outputs": [
    {
     "name": "stdout",
     "output_type": "stream",
     "text": [
      "Similarity between the two groups: 0.8597368001937866\n"
     ]
    }
   ],
   "source": [
    "# Similarity between the two groups\n",
    "group_similarity = word_vectors.n_similarity(['book', 'novel', 'magazine'], ['author', 'writer', 'story'])\n",
    "print(f\"Similarity between the two groups: {group_similarity}\")"
   ]
  },
  {
   "cell_type": "code",
   "execution_count": 96,
   "id": "f6889ced-f3f3-4344-8b17-8f10404940a5",
   "metadata": {},
   "outputs": [
    {
     "name": "stdout",
     "output_type": "stream",
     "text": [
      "Words similar to 'book' vector:\n",
      "[('book', 1.0000001192092896), ('books', 0.847648561000824), ('novel', 0.8181167244911194), ('published', 0.8023923635482788), ('story', 0.7941390872001648)]\n"
     ]
    }
   ],
   "source": [
    "# Similarity words for 'book' vector\n",
    "vector = word_vectors['book']\n",
    "similar_to_vector = word_vectors.similar_by_vector(vector, topn=5)\n",
    "print(\"Words similar to 'book' vector:\")\n",
    "print(similar_to_vector)"
   ]
  },
  {
   "cell_type": "code",
   "execution_count": 98,
   "id": "82379fd7-a394-4d35-8029-503e0a96c39c",
   "metadata": {},
   "outputs": [
    {
     "name": "stdout",
     "output_type": "stream",
     "text": [
      "Rank of 'author' for 'book': 5\n"
     ]
    }
   ],
   "source": [
    "# The rank of the word 'author' among the most similar ones for 'book'\n",
    "rank = word_vectors.rank('book', 'author')\n",
    "print(f\"Rank of 'author' for 'book': {rank}\")"
   ]
  },
  {
   "cell_type": "raw",
   "id": "92d75787-6c65-4d5d-b312-ac2b04268e4b",
   "metadata": {},
   "source": [
    "positive=[\"woman\", \"king\"]: Creates a context using the words \"woman\" and \"king.\"\n",
    "negative=[\"man\"]: Removes the word \"man\" from this context.\n",
    "The result is usually a word like \"queen.\""
   ]
  },
  {
   "cell_type": "code",
   "execution_count": 100,
   "id": "c9cb5df9-7c13-4445-a37d-bc1adb9ed435",
   "metadata": {},
   "outputs": [
    {
     "name": "stdout",
     "output_type": "stream",
     "text": [
      "Result of analogy ('woman' + 'king' - 'man'): [('queen', 0.7698540687561035)]\n"
     ]
    }
   ],
   "source": [
    "# Analogy with Positive and Negative parameters\n",
    "result = word_vectors.most_similar(positive=[\"woman\", \"king\"], negative=[\"man\"], topn=1)\n",
    "print(f\"Result of analogy ('woman' + 'king' - 'man'): {result}\")"
   ]
  },
  {
   "cell_type": "markdown",
   "id": "b5c053f5-af8e-4c8f-a208-200eb1b23618",
   "metadata": {},
   "source": [
    "![Example Image](vectorComp.png)"
   ]
  }
 ],
 "metadata": {
  "kernelspec": {
   "display_name": "Python 3 (ipykernel)",
   "language": "python",
   "name": "python3"
  },
  "language_info": {
   "codemirror_mode": {
    "name": "ipython",
    "version": 3
   },
   "file_extension": ".py",
   "mimetype": "text/x-python",
   "name": "python",
   "nbconvert_exporter": "python",
   "pygments_lexer": "ipython3",
   "version": "3.12.4"
  }
 },
 "nbformat": 4,
 "nbformat_minor": 5
}
